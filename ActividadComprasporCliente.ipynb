{
  "nbformat": 4,
  "nbformat_minor": 0,
  "metadata": {
    "colab": {
      "provenance": [],
      "collapsed_sections": []
    },
    "kernelspec": {
      "name": "python3",
      "display_name": "Python 3"
    },
    "language_info": {
      "name": "python"
    }
  },
  "cells": [
    {
      "cell_type": "code",
      "execution_count": null,
      "metadata": {
        "id": "PxFQwI5AXtA9"
      },
      "outputs": [],
      "source": [
        "\"\"\" Actividad Basica\n",
        "1. Crear un programa que permita al usuario ingresar los montos de las compras de\n",
        "un cliente \n",
        "\n",
        "(se desconoce la cantidad de datos que se cargarán, que pueden cambiar\n",
        "en cada ejecución), cortando el ingreso de datos cuando el usuario ingresa el monto 0.\n",
        "Si ingresa una cantidad negativa, no debe procesarse y se le debe solicitar que\n",
        "ingrese una nueva cantidad. Al finalizar, informar el total a pagar teniendo en\n",
        "cuenta que, si las ventas superan el total de $1000, se debe aplicar un 10% de descuento.\n",
        "\n",
        "\"\"\""
      ]
    },
    {
      "cell_type": "code",
      "source": [
        "from IPython.display import clear_output\n",
        "from cmath import sqrt"
      ],
      "metadata": {
        "id": "3bieKhzOcVAI"
      },
      "execution_count": null,
      "outputs": []
    },
    {
      "cell_type": "code",
      "source": [
        "def agregar_producto(carrito,prod):\n",
        "  clear_output() \n",
        "  carrito.append(prod) \n",
        "  print('{} ha sido agregado al carrito'.format(prod))\n",
        "  return carrito\n",
        "\n",
        "def mostrar_carrito(carrito):\n",
        "  clear_output()\n",
        "  if len(carrito)>0:\n",
        "    print('El carrito contiene:')\n",
        "    for prod in carrito:\n",
        "      print('- {}'.format(prod))\n",
        "  else:\n",
        "    print('El carrito esta vacio')\n",
        "\n",
        "def eliminar_producto(carrito, prod):\n",
        "  clear_output() \n",
        "  try: \n",
        "    carrito.remove(prod)\n",
        "    print('{} ha sido removido'.format(prod))\n",
        "  except:\n",
        "    print('No se pudo realizar la operacion')\n",
        "  return carrito \n",
        "\n",
        "def vaciar_carrito(carrito):\n",
        "  clear_output()\n",
        "  carrito.clear() \n",
        "  print('El carrito se ha vaciado')\n",
        "\n",
        "def pagar_productos(carrito): \n",
        "  total=0\n",
        "  for prod in carrito:\n",
        "    precio=float(input('Cual es el precio de {}?'.format(prod)))\n",
        "    if (precio)<=0:\n",
        "      print('Ingrese un precio valido')\n",
        "  else:\n",
        "    total+=precio  # total=total+precio\n",
        "  if (precio)>1000:\n",
        "    print('El total de tu cuenta es ${}'.format(total))\n",
        "  elif (precio)<1000:\n",
        "    descuento=total*0.1\n",
        "    print('El total de tu cuenta con descuento es ${}'.format(total-descuento))\n",
        "  else:\n",
        "    print('El total de tu cuenta es ${}'.format(total))"
      ],
      "metadata": {
        "id": "D4hUxdeMemIV"
      },
      "execution_count": null,
      "outputs": []
    },
    {
      "cell_type": "code",
      "source": [
        "#compras del cliente\n",
        "def principal():\n",
        "  terminado=False\n",
        "  carrito=[]\n",
        "  while not terminado:\n",
        "    res=input('agregar/eliminar/mostrar/vaciar/0: ').lower()    \n",
        "    if res=='0':\n",
        "      if len(carrito)>0:\n",
        "        pagar_productos(carrito)\n",
        "      else:\n",
        "        clear_output()\n",
        "        print('Gracias por usar nuestro servicio')\n",
        "      terminado=True\n",
        "\n",
        "    elif res=='agregar':\n",
        "      prod=input('Que producto quieres agregar? ')\n",
        "      carrito=agregar_producto(carrito,prod)\n",
        "\n",
        "    elif res=='eliminar':\n",
        "      mostrar_carrito(carrito)\n",
        "      prod=input('Que producto quieres eliminar? ')\n",
        "      carrito=eliminar_producto(carrito,prod)\n",
        "    elif res=='mostrar':\n",
        "      mostrar_carrito(carrito)\n",
        "    elif res=='vaciar':\n",
        "      carrito=vaciar_carrito\n",
        "    else:\n",
        "      print('Comando no valido, intente nuevamente')"
      ],
      "metadata": {
        "id": "gCVxW2dldQbl"
      },
      "execution_count": null,
      "outputs": []
    },
    {
      "cell_type": "code",
      "source": [
        "principal()"
      ],
      "metadata": {
        "id": "Mh3sLlgsBB6c"
      },
      "execution_count": null,
      "outputs": []
    }
  ]
}